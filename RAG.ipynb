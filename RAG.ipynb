{
 "cells": [
  {
   "cell_type": "markdown",
   "source": [
    "# Wiki Assistant"
   ],
   "metadata": {
    "collapsed": false
   },
   "id": "eb53864dd86d8cf4"
  },
  {
   "cell_type": "code",
   "execution_count": 11,
   "id": "initial_id",
   "metadata": {
    "collapsed": true,
    "ExecuteTime": {
     "end_time": "2024-01-19T09:50:22.735662Z",
     "start_time": "2024-01-19T09:50:22.643498Z"
    }
   },
   "outputs": [],
   "source": [
    "import os\n",
    "import time\n",
    "from dotenv import load_dotenv\n",
    "load_dotenv()\n",
    "import pandas as pd\n",
    "from operator import itemgetter\n",
    "\n",
    "# langchain \n",
    "from langchain.embeddings import OpenAIEmbeddings\n",
    "from langchain.vectorstores import Pinecone\n",
    "from langchain.chat_models import ChatOpenAI\n",
    "from langchain import hub\n",
    "from langchain.schema import StrOutputParser\n",
    "from langchain.schema.runnable import RunnablePassthrough, RunnableParallel\n",
    "from langchain.prompts import PromptTemplate, ChatPromptTemplate, MessagesPlaceholder\n",
    "from langchain.schema.messages import AIMessage, HumanMessage\n",
    "\n",
    "from pinecone_datasets import load_dataset\n",
    "import pinecone\n",
    "\n",
    "# internal imports\n",
    "from utils import chunks"
   ]
  },
  {
   "cell_type": "markdown",
   "source": [
    "# Step1: Load data"
   ],
   "metadata": {
    "collapsed": false
   },
   "id": "db1dae70d6696d22"
  },
  {
   "cell_type": "code",
   "execution_count": 2,
   "outputs": [
    {
     "data": {
      "text/plain": "    id                                             values sparse_values  \\\n0  1-0  [-0.011254455894231796, -0.01698738895356655, ...          None   \n1  1-1  [-0.0015197008615359664, -0.007858820259571075...          None   \n2  1-2  [-0.009930099360644817, -0.012211072258651257,...          None   \n3  1-3  [-0.011600767262279987, -0.012608098797500134,...          None   \n4  1-4  [-0.026462381705641747, -0.016362832859158516,...          None   \n\n  metadata                                               blob  \n0     None  {'chunk': 0, 'source': 'https://simple.wikiped...  \n1     None  {'chunk': 1, 'source': 'https://simple.wikiped...  \n2     None  {'chunk': 2, 'source': 'https://simple.wikiped...  \n3     None  {'chunk': 3, 'source': 'https://simple.wikiped...  \n4     None  {'chunk': 4, 'source': 'https://simple.wikiped...  ",
      "text/html": "<div>\n<style scoped>\n    .dataframe tbody tr th:only-of-type {\n        vertical-align: middle;\n    }\n\n    .dataframe tbody tr th {\n        vertical-align: top;\n    }\n\n    .dataframe thead th {\n        text-align: right;\n    }\n</style>\n<table border=\"1\" class=\"dataframe\">\n  <thead>\n    <tr style=\"text-align: right;\">\n      <th></th>\n      <th>id</th>\n      <th>values</th>\n      <th>sparse_values</th>\n      <th>metadata</th>\n      <th>blob</th>\n    </tr>\n  </thead>\n  <tbody>\n    <tr>\n      <th>0</th>\n      <td>1-0</td>\n      <td>[-0.011254455894231796, -0.01698738895356655, ...</td>\n      <td>None</td>\n      <td>None</td>\n      <td>{'chunk': 0, 'source': 'https://simple.wikiped...</td>\n    </tr>\n    <tr>\n      <th>1</th>\n      <td>1-1</td>\n      <td>[-0.0015197008615359664, -0.007858820259571075...</td>\n      <td>None</td>\n      <td>None</td>\n      <td>{'chunk': 1, 'source': 'https://simple.wikiped...</td>\n    </tr>\n    <tr>\n      <th>2</th>\n      <td>1-2</td>\n      <td>[-0.009930099360644817, -0.012211072258651257,...</td>\n      <td>None</td>\n      <td>None</td>\n      <td>{'chunk': 2, 'source': 'https://simple.wikiped...</td>\n    </tr>\n    <tr>\n      <th>3</th>\n      <td>1-3</td>\n      <td>[-0.011600767262279987, -0.012608098797500134,...</td>\n      <td>None</td>\n      <td>None</td>\n      <td>{'chunk': 3, 'source': 'https://simple.wikiped...</td>\n    </tr>\n    <tr>\n      <th>4</th>\n      <td>1-4</td>\n      <td>[-0.026462381705641747, -0.016362832859158516,...</td>\n      <td>None</td>\n      <td>None</td>\n      <td>{'chunk': 4, 'source': 'https://simple.wikiped...</td>\n    </tr>\n  </tbody>\n</table>\n</div>"
     },
     "execution_count": 2,
     "metadata": {},
     "output_type": "execute_result"
    }
   ],
   "source": [
    "dataset = load_dataset('wikipedia-simple-text-embedding-ada-002-100K')\n",
    "dataset.head()"
   ],
   "metadata": {
    "collapsed": false,
    "ExecuteTime": {
     "end_time": "2023-12-11T13:44:28.251774Z",
     "start_time": "2023-12-11T13:41:57.160172Z"
    }
   },
   "id": "3f4c6978c4e27eb9"
  },
  {
   "cell_type": "code",
   "execution_count": 18,
   "outputs": [
    {
     "data": {
      "text/plain": "             id                                             values  \\\n0           1-0  [-0.011254455894231796, -0.01698738895356655, ...   \n1           1-1  [-0.0015197008615359664, -0.007858820259571075...   \n2           1-2  [-0.009930099360644817, -0.012211072258651257,...   \n3           1-3  [-0.011600767262279987, -0.012608098797500134,...   \n4           1-4  [-0.026462381705641747, -0.016362832859158516,...   \n...         ...                                                ...   \n99995  234934-0  [0.004071333445608616, 0.007617993280291557, -...   \n99996  234940-0  [-0.019249631091952324, 0.0005083759315311909,...   \n99997  234940-1  [-0.009684711694717407, 0.005518495570868254, ...   \n99998  234940-2  [-0.012945059686899185, 0.004518118686974049, ...   \n99999  234940-3  [-0.010448799468576908, 0.0057038539089262486,...   \n\n      sparse_values metadata  \\\n0              None     None   \n1              None     None   \n2              None     None   \n3              None     None   \n4              None     None   \n...             ...      ...   \n99995          None     None   \n99996          None     None   \n99997          None     None   \n99998          None     None   \n99999          None     None   \n\n                                                    blob  \n0      {'chunk': 0, 'source': 'https://simple.wikiped...  \n1      {'chunk': 1, 'source': 'https://simple.wikiped...  \n2      {'chunk': 2, 'source': 'https://simple.wikiped...  \n3      {'chunk': 3, 'source': 'https://simple.wikiped...  \n4      {'chunk': 4, 'source': 'https://simple.wikiped...  \n...                                                  ...  \n99995  {'chunk': 0, 'source': 'https://simple.wikiped...  \n99996  {'chunk': 0, 'source': 'https://simple.wikiped...  \n99997  {'chunk': 1, 'source': 'https://simple.wikiped...  \n99998  {'chunk': 2, 'source': 'https://simple.wikiped...  \n99999  {'chunk': 3, 'source': 'https://simple.wikiped...  \n\n[100000 rows x 5 columns]",
      "text/html": "<div>\n<style scoped>\n    .dataframe tbody tr th:only-of-type {\n        vertical-align: middle;\n    }\n\n    .dataframe tbody tr th {\n        vertical-align: top;\n    }\n\n    .dataframe thead th {\n        text-align: right;\n    }\n</style>\n<table border=\"1\" class=\"dataframe\">\n  <thead>\n    <tr style=\"text-align: right;\">\n      <th></th>\n      <th>id</th>\n      <th>values</th>\n      <th>sparse_values</th>\n      <th>metadata</th>\n      <th>blob</th>\n    </tr>\n  </thead>\n  <tbody>\n    <tr>\n      <th>0</th>\n      <td>1-0</td>\n      <td>[-0.011254455894231796, -0.01698738895356655, ...</td>\n      <td>None</td>\n      <td>None</td>\n      <td>{'chunk': 0, 'source': 'https://simple.wikiped...</td>\n    </tr>\n    <tr>\n      <th>1</th>\n      <td>1-1</td>\n      <td>[-0.0015197008615359664, -0.007858820259571075...</td>\n      <td>None</td>\n      <td>None</td>\n      <td>{'chunk': 1, 'source': 'https://simple.wikiped...</td>\n    </tr>\n    <tr>\n      <th>2</th>\n      <td>1-2</td>\n      <td>[-0.009930099360644817, -0.012211072258651257,...</td>\n      <td>None</td>\n      <td>None</td>\n      <td>{'chunk': 2, 'source': 'https://simple.wikiped...</td>\n    </tr>\n    <tr>\n      <th>3</th>\n      <td>1-3</td>\n      <td>[-0.011600767262279987, -0.012608098797500134,...</td>\n      <td>None</td>\n      <td>None</td>\n      <td>{'chunk': 3, 'source': 'https://simple.wikiped...</td>\n    </tr>\n    <tr>\n      <th>4</th>\n      <td>1-4</td>\n      <td>[-0.026462381705641747, -0.016362832859158516,...</td>\n      <td>None</td>\n      <td>None</td>\n      <td>{'chunk': 4, 'source': 'https://simple.wikiped...</td>\n    </tr>\n    <tr>\n      <th>...</th>\n      <td>...</td>\n      <td>...</td>\n      <td>...</td>\n      <td>...</td>\n      <td>...</td>\n    </tr>\n    <tr>\n      <th>99995</th>\n      <td>234934-0</td>\n      <td>[0.004071333445608616, 0.007617993280291557, -...</td>\n      <td>None</td>\n      <td>None</td>\n      <td>{'chunk': 0, 'source': 'https://simple.wikiped...</td>\n    </tr>\n    <tr>\n      <th>99996</th>\n      <td>234940-0</td>\n      <td>[-0.019249631091952324, 0.0005083759315311909,...</td>\n      <td>None</td>\n      <td>None</td>\n      <td>{'chunk': 0, 'source': 'https://simple.wikiped...</td>\n    </tr>\n    <tr>\n      <th>99997</th>\n      <td>234940-1</td>\n      <td>[-0.009684711694717407, 0.005518495570868254, ...</td>\n      <td>None</td>\n      <td>None</td>\n      <td>{'chunk': 1, 'source': 'https://simple.wikiped...</td>\n    </tr>\n    <tr>\n      <th>99998</th>\n      <td>234940-2</td>\n      <td>[-0.012945059686899185, 0.004518118686974049, ...</td>\n      <td>None</td>\n      <td>None</td>\n      <td>{'chunk': 2, 'source': 'https://simple.wikiped...</td>\n    </tr>\n    <tr>\n      <th>99999</th>\n      <td>234940-3</td>\n      <td>[-0.010448799468576908, 0.0057038539089262486,...</td>\n      <td>None</td>\n      <td>None</td>\n      <td>{'chunk': 3, 'source': 'https://simple.wikiped...</td>\n    </tr>\n  </tbody>\n</table>\n<p>100000 rows × 5 columns</p>\n</div>"
     },
     "execution_count": 18,
     "metadata": {},
     "output_type": "execute_result"
    }
   ],
   "source": [
    "document_df: pd.DataFrame = dataset.documents\n",
    "document_df"
   ],
   "metadata": {
    "collapsed": false,
    "ExecuteTime": {
     "end_time": "2023-12-11T13:50:45.384577Z",
     "start_time": "2023-12-11T13:50:45.374526Z"
    }
   },
   "id": "156398cf3c636b99"
  },
  {
   "cell_type": "code",
   "execution_count": 48,
   "outputs": [],
   "source": [
    "# save to pickle file in order to keep types\n",
    "document_df.to_pickle('./data/wikipedia-simple-text-embedding-ada-002-100K.pkl')"
   ],
   "metadata": {
    "collapsed": false,
    "ExecuteTime": {
     "end_time": "2023-12-11T15:31:46.731770Z",
     "start_time": "2023-12-11T15:31:26.429769Z"
    }
   },
   "id": "7d0cd2c462f4078a"
  },
  {
   "cell_type": "code",
   "execution_count": 53,
   "outputs": [
    {
     "name": "stdout",
     "output_type": "stream",
     "text": [
      "id: <class 'str'>\n",
      "values: <class 'numpy.ndarray'>\n",
      "metadata: <class 'dict'>\n"
     ]
    },
    {
     "data": {
      "text/plain": "    id                                             values  \\\n0  1-0  [-0.011254455894231796, -0.01698738895356655, ...   \n1  1-1  [-0.0015197008615359664, -0.007858820259571075...   \n2  1-2  [-0.009930099360644817, -0.012211072258651257,...   \n3  1-3  [-0.011600767262279987, -0.012608098797500134,...   \n4  1-4  [-0.026462381705641747, -0.016362832859158516,...   \n\n                                            metadata  \n0  {'chunk': 0, 'source': 'https://simple.wikiped...  \n1  {'chunk': 1, 'source': 'https://simple.wikiped...  \n2  {'chunk': 2, 'source': 'https://simple.wikiped...  \n3  {'chunk': 3, 'source': 'https://simple.wikiped...  \n4  {'chunk': 4, 'source': 'https://simple.wikiped...  ",
      "text/html": "<div>\n<style scoped>\n    .dataframe tbody tr th:only-of-type {\n        vertical-align: middle;\n    }\n\n    .dataframe tbody tr th {\n        vertical-align: top;\n    }\n\n    .dataframe thead th {\n        text-align: right;\n    }\n</style>\n<table border=\"1\" class=\"dataframe\">\n  <thead>\n    <tr style=\"text-align: right;\">\n      <th></th>\n      <th>id</th>\n      <th>values</th>\n      <th>metadata</th>\n    </tr>\n  </thead>\n  <tbody>\n    <tr>\n      <th>0</th>\n      <td>1-0</td>\n      <td>[-0.011254455894231796, -0.01698738895356655, ...</td>\n      <td>{'chunk': 0, 'source': 'https://simple.wikiped...</td>\n    </tr>\n    <tr>\n      <th>1</th>\n      <td>1-1</td>\n      <td>[-0.0015197008615359664, -0.007858820259571075...</td>\n      <td>{'chunk': 1, 'source': 'https://simple.wikiped...</td>\n    </tr>\n    <tr>\n      <th>2</th>\n      <td>1-2</td>\n      <td>[-0.009930099360644817, -0.012211072258651257,...</td>\n      <td>{'chunk': 2, 'source': 'https://simple.wikiped...</td>\n    </tr>\n    <tr>\n      <th>3</th>\n      <td>1-3</td>\n      <td>[-0.011600767262279987, -0.012608098797500134,...</td>\n      <td>{'chunk': 3, 'source': 'https://simple.wikiped...</td>\n    </tr>\n    <tr>\n      <th>4</th>\n      <td>1-4</td>\n      <td>[-0.026462381705641747, -0.016362832859158516,...</td>\n      <td>{'chunk': 4, 'source': 'https://simple.wikiped...</td>\n    </tr>\n  </tbody>\n</table>\n</div>"
     },
     "execution_count": 53,
     "metadata": {},
     "output_type": "execute_result"
    }
   ],
   "source": [
    "df = pd.read_pickle('./data/wikipedia-simple-text-embedding-ada-002-100K.pkl')\n",
    "df.drop(columns=['sparse_values', 'metadata'], inplace=True)\n",
    "df.rename(columns={'blob': 'metadata'}, inplace=True)\n",
    "for col in df.columns:\n",
    "    print(f\"{col}: {type(df[col][0])}\")\n",
    "df.head()"
   ],
   "metadata": {
    "collapsed": false,
    "ExecuteTime": {
     "end_time": "2023-12-11T15:35:22.758411Z",
     "start_time": "2023-12-11T15:35:14.885204Z"
    }
   },
   "id": "c3f13560da658a62"
  },
  {
   "cell_type": "markdown",
   "source": [
    "# Step2: Create index"
   ],
   "metadata": {
    "collapsed": false
   },
   "id": "4c1a39157c57aa1d"
  },
  {
   "cell_type": "code",
   "execution_count": 12,
   "outputs": [
    {
     "name": "stdout",
     "output_type": "stream",
     "text": [
      "wiki-pages already exists\n"
     ]
    },
    {
     "data": {
      "text/plain": "{'dimension': 1536,\n 'index_fullness': 1.0,\n 'namespaces': {'': {'vector_count': 100000}},\n 'total_vector_count': 100000}"
     },
     "execution_count": 12,
     "metadata": {},
     "output_type": "execute_result"
    }
   ],
   "source": [
    "pinecone_key = os.getenv('PINECONE_API_KEY')\n",
    "\n",
    "pinecone.init(api_key=pinecone_key, environment='gcp-starter')\n",
    "index_name = 'wiki-pages'\n",
    "if index_name not in pinecone.list_indexes():\n",
    "    pinecone.create_index(name=index_name, metric='cosine', dimension=1536)  # returned dim from text-embeddings-ada-002 openai \n",
    "    time.sleep(2)\n",
    "    print(f\" Created: {pinecone.list_indexes()[0]}\")   # there is only one index in this starter plan\n",
    "else:\n",
    "    print(f'{index_name} already exists')\n",
    "index = pinecone.Index(index_name)\n",
    "index.describe_index_stats()"
   ],
   "metadata": {
    "collapsed": false,
    "ExecuteTime": {
     "end_time": "2024-01-19T09:52:49.631553Z",
     "start_time": "2024-01-19T09:52:48.337070Z"
    }
   },
   "id": "d0148a08493dd774"
  },
  {
   "cell_type": "markdown",
   "source": [
    "### Step2.1: upsert data"
   ],
   "metadata": {
    "collapsed": false
   },
   "id": "c5e309c14b214a11"
  },
  {
   "cell_type": "code",
   "execution_count": 60,
   "outputs": [
    {
     "name": "stdout",
     "output_type": "stream",
     "text": [
      "Batch number: 1\n",
      "Batch number: 2\n",
      "Batch number: 3\n",
      "Batch number: 4\n",
      "Batch number: 5\n",
      "Batch number: 6\n",
      "Batch number: 7\n",
      "Batch number: 8\n",
      "Batch number: 9\n",
      "Batch number: 10\n",
      "Batch number: 11\n",
      "Batch number: 12\n",
      "Batch number: 13\n",
      "Batch number: 14\n",
      "Batch number: 15\n",
      "Batch number: 16\n",
      "Batch number: 17\n",
      "Batch number: 18\n",
      "Batch number: 19\n",
      "Batch number: 20\n",
      "Batch number: 21\n",
      "Batch number: 22\n",
      "Batch number: 23\n",
      "Batch number: 24\n",
      "Batch number: 25\n",
      "Batch number: 26\n",
      "Batch number: 27\n",
      "Batch number: 28\n",
      "Batch number: 29\n",
      "Batch number: 30\n",
      "Batch number: 31\n",
      "Batch number: 32\n",
      "Batch number: 33\n",
      "Batch number: 34\n",
      "Batch number: 35\n",
      "Batch number: 36\n",
      "Batch number: 37\n",
      "Batch number: 38\n",
      "Batch number: 39\n",
      "Batch number: 40\n",
      "Batch number: 41\n",
      "Batch number: 42\n",
      "Batch number: 43\n",
      "Batch number: 44\n",
      "Batch number: 45\n",
      "Batch number: 46\n",
      "Batch number: 47\n",
      "Batch number: 48\n",
      "Batch number: 49\n",
      "Batch number: 50\n",
      "Batch number: 51\n",
      "Batch number: 52\n",
      "Batch number: 53\n",
      "Batch number: 54\n",
      "Batch number: 55\n",
      "Batch number: 56\n",
      "Batch number: 57\n",
      "Batch number: 58\n",
      "Batch number: 59\n",
      "Batch number: 60\n",
      "Batch number: 61\n",
      "Batch number: 62\n",
      "Batch number: 63\n",
      "Batch number: 64\n",
      "Batch number: 65\n",
      "Batch number: 66\n",
      "Batch number: 67\n",
      "Batch number: 68\n",
      "Batch number: 69\n",
      "Batch number: 70\n",
      "Batch number: 71\n",
      "Batch number: 72\n",
      "Batch number: 73\n",
      "Batch number: 74\n",
      "Batch number: 75\n",
      "Batch number: 76\n",
      "Batch number: 77\n",
      "Batch number: 78\n",
      "Batch number: 79\n",
      "Batch number: 80\n",
      "Batch number: 81\n",
      "Batch number: 82\n",
      "Batch number: 83\n",
      "Batch number: 84\n",
      "Batch number: 85\n",
      "Batch number: 86\n",
      "Batch number: 87\n",
      "Batch number: 88\n",
      "Batch number: 89\n",
      "Batch number: 90\n",
      "Batch number: 91\n",
      "Batch number: 92\n",
      "Batch number: 93\n",
      "Batch number: 94\n",
      "Batch number: 95\n",
      "Batch number: 96\n",
      "Batch number: 97\n",
      "Batch number: 98\n",
      "Batch number: 99\n",
      "Batch number: 100\n",
      "Batch number: 101\n",
      "Batch number: 102\n",
      "Batch number: 103\n",
      "Batch number: 104\n",
      "Batch number: 105\n",
      "Batch number: 106\n",
      "Batch number: 107\n",
      "Batch number: 108\n",
      "Batch number: 109\n",
      "Batch number: 110\n",
      "Batch number: 111\n",
      "Batch number: 112\n",
      "Batch number: 113\n",
      "Batch number: 114\n",
      "Batch number: 115\n",
      "Batch number: 116\n",
      "Batch number: 117\n",
      "Batch number: 118\n",
      "Batch number: 119\n",
      "Batch number: 120\n",
      "Batch number: 121\n",
      "Batch number: 122\n",
      "Batch number: 123\n",
      "Batch number: 124\n",
      "Batch number: 125\n",
      "Batch number: 126\n",
      "Batch number: 127\n",
      "Batch number: 128\n",
      "Batch number: 129\n",
      "Batch number: 130\n",
      "Batch number: 131\n",
      "Batch number: 132\n",
      "Batch number: 133\n",
      "Batch number: 134\n",
      "Batch number: 135\n",
      "Batch number: 136\n",
      "Batch number: 137\n",
      "Batch number: 138\n",
      "Batch number: 139\n",
      "Batch number: 140\n",
      "Batch number: 141\n",
      "Batch number: 142\n",
      "Batch number: 143\n",
      "Batch number: 144\n",
      "Batch number: 145\n",
      "Batch number: 146\n",
      "Batch number: 147\n",
      "Batch number: 148\n",
      "Batch number: 149\n",
      "Batch number: 150\n",
      "Batch number: 151\n",
      "Batch number: 152\n",
      "Batch number: 153\n",
      "Batch number: 154\n",
      "Batch number: 155\n",
      "Batch number: 156\n",
      "Batch number: 157\n",
      "Batch number: 158\n",
      "Batch number: 159\n",
      "Batch number: 160\n",
      "Batch number: 161\n",
      "Batch number: 162\n",
      "Batch number: 163\n",
      "Batch number: 164\n",
      "Batch number: 165\n",
      "Batch number: 166\n",
      "Batch number: 167\n",
      "Batch number: 168\n",
      "Batch number: 169\n",
      "Batch number: 170\n",
      "Batch number: 171\n",
      "Batch number: 172\n",
      "Batch number: 173\n",
      "Batch number: 174\n",
      "Batch number: 175\n",
      "Batch number: 176\n",
      "Batch number: 177\n",
      "Batch number: 178\n",
      "Batch number: 179\n",
      "Batch number: 180\n",
      "Batch number: 181\n",
      "Batch number: 182\n",
      "Batch number: 183\n",
      "Batch number: 184\n",
      "Batch number: 185\n",
      "Batch number: 186\n",
      "Batch number: 187\n",
      "Batch number: 188\n",
      "Batch number: 189\n",
      "Batch number: 190\n",
      "Batch number: 191\n",
      "Batch number: 192\n",
      "Batch number: 193\n",
      "Batch number: 194\n",
      "Batch number: 195\n",
      "Batch number: 196\n",
      "Batch number: 197\n",
      "Batch number: 198\n",
      "Batch number: 199\n",
      "Batch number: 200\n",
      "Batch number: 201\n",
      "Batch number: 202\n",
      "Batch number: 203\n",
      "Batch number: 204\n",
      "Batch number: 205\n",
      "Batch number: 206\n",
      "Batch number: 207\n",
      "Batch number: 208\n",
      "Batch number: 209\n",
      "Batch number: 210\n",
      "Batch number: 211\n",
      "Batch number: 212\n",
      "Batch number: 213\n",
      "Batch number: 214\n",
      "Batch number: 215\n",
      "Batch number: 216\n",
      "Batch number: 217\n",
      "Batch number: 218\n",
      "Batch number: 219\n",
      "Batch number: 220\n",
      "Batch number: 221\n",
      "Batch number: 222\n",
      "Batch number: 223\n",
      "Batch number: 224\n",
      "Batch number: 225\n",
      "Batch number: 226\n",
      "Batch number: 227\n",
      "Batch number: 228\n",
      "Batch number: 229\n",
      "Batch number: 230\n",
      "Batch number: 231\n",
      "Batch number: 232\n",
      "Batch number: 233\n",
      "Batch number: 234\n",
      "Batch number: 235\n",
      "Batch number: 236\n",
      "Batch number: 237\n",
      "Batch number: 238\n",
      "Batch number: 239\n",
      "Batch number: 240\n",
      "Batch number: 241\n",
      "Batch number: 242\n",
      "Batch number: 243\n",
      "Batch number: 244\n",
      "Batch number: 245\n",
      "Batch number: 246\n",
      "Batch number: 247\n",
      "Batch number: 248\n",
      "Batch number: 249\n",
      "Batch number: 250\n",
      "Batch number: 251\n",
      "Batch number: 252\n",
      "Batch number: 253\n",
      "Batch number: 254\n",
      "Batch number: 255\n",
      "Batch number: 256\n",
      "Batch number: 257\n",
      "Batch number: 258\n",
      "Batch number: 259\n",
      "Batch number: 260\n",
      "Batch number: 261\n",
      "Batch number: 262\n",
      "Batch number: 263\n",
      "Batch number: 264\n",
      "Batch number: 265\n",
      "Batch number: 266\n",
      "Batch number: 267\n",
      "Batch number: 268\n",
      "Batch number: 269\n",
      "Batch number: 270\n",
      "Batch number: 271\n",
      "Batch number: 272\n",
      "Batch number: 273\n",
      "Batch number: 274\n",
      "Batch number: 275\n",
      "Batch number: 276\n",
      "Batch number: 277\n",
      "Batch number: 278\n",
      "Batch number: 279\n",
      "Batch number: 280\n",
      "Batch number: 281\n",
      "Batch number: 282\n",
      "Batch number: 283\n",
      "Batch number: 284\n",
      "Batch number: 285\n",
      "Batch number: 286\n",
      "Batch number: 287\n",
      "Batch number: 288\n",
      "Batch number: 289\n",
      "Batch number: 290\n",
      "Batch number: 291\n",
      "Batch number: 292\n",
      "Batch number: 293\n",
      "Batch number: 294\n",
      "Batch number: 295\n",
      "Batch number: 296\n",
      "Batch number: 297\n",
      "Batch number: 298\n",
      "Batch number: 299\n",
      "Batch number: 300\n",
      "Batch number: 301\n",
      "Batch number: 302\n",
      "Batch number: 303\n",
      "Batch number: 304\n",
      "Batch number: 305\n",
      "Batch number: 306\n",
      "Batch number: 307\n",
      "Batch number: 308\n",
      "Batch number: 309\n",
      "Batch number: 310\n",
      "Batch number: 311\n",
      "Batch number: 312\n",
      "Batch number: 313\n",
      "Batch number: 314\n",
      "Batch number: 315\n",
      "Batch number: 316\n",
      "Batch number: 317\n",
      "Batch number: 318\n",
      "Batch number: 319\n",
      "Batch number: 320\n",
      "Batch number: 321\n",
      "Batch number: 322\n",
      "Batch number: 323\n",
      "Batch number: 324\n",
      "Batch number: 325\n",
      "Batch number: 326\n",
      "Batch number: 327\n",
      "Batch number: 328\n",
      "Batch number: 329\n",
      "Batch number: 330\n",
      "Batch number: 331\n",
      "Batch number: 332\n",
      "Batch number: 333\n",
      "Batch number: 334\n",
      "Batch number: 335\n",
      "Batch number: 336\n",
      "Batch number: 337\n",
      "Batch number: 338\n",
      "Batch number: 339\n",
      "Batch number: 340\n",
      "Batch number: 341\n",
      "Batch number: 342\n",
      "Batch number: 343\n",
      "Batch number: 344\n",
      "Batch number: 345\n",
      "Batch number: 346\n",
      "Batch number: 347\n",
      "Batch number: 348\n",
      "Batch number: 349\n",
      "Batch number: 350\n",
      "Batch number: 351\n",
      "Batch number: 352\n",
      "Batch number: 353\n",
      "Batch number: 354\n",
      "Batch number: 355\n",
      "Batch number: 356\n",
      "Batch number: 357\n",
      "Batch number: 358\n",
      "Batch number: 359\n",
      "Batch number: 360\n",
      "Batch number: 361\n",
      "Batch number: 362\n",
      "Batch number: 363\n",
      "Batch number: 364\n",
      "Batch number: 365\n",
      "Batch number: 366\n",
      "Batch number: 367\n",
      "Batch number: 368\n",
      "Batch number: 369\n",
      "Batch number: 370\n",
      "Batch number: 371\n",
      "Batch number: 372\n",
      "Batch number: 373\n",
      "Batch number: 374\n",
      "Batch number: 375\n",
      "Batch number: 376\n",
      "Batch number: 377\n",
      "Batch number: 378\n",
      "Batch number: 379\n",
      "Batch number: 380\n",
      "Batch number: 381\n",
      "Batch number: 382\n",
      "Batch number: 383\n",
      "Batch number: 384\n",
      "Batch number: 385\n",
      "Batch number: 386\n",
      "Batch number: 387\n",
      "Batch number: 388\n",
      "Batch number: 389\n",
      "Batch number: 390\n",
      "Batch number: 391\n",
      "Batch number: 392\n",
      "Batch number: 393\n",
      "Batch number: 394\n",
      "Batch number: 395\n",
      "Batch number: 396\n",
      "Batch number: 397\n",
      "Batch number: 398\n",
      "Batch number: 399\n",
      "Batch number: 400\n",
      "Batch number: 401\n",
      "Batch number: 402\n",
      "Batch number: 403\n",
      "Batch number: 404\n",
      "Batch number: 405\n",
      "Batch number: 406\n",
      "Batch number: 407\n",
      "Batch number: 408\n",
      "Batch number: 409\n",
      "Batch number: 410\n",
      "Batch number: 411\n",
      "Batch number: 412\n",
      "Batch number: 413\n",
      "Batch number: 414\n",
      "Batch number: 415\n",
      "Batch number: 416\n",
      "Batch number: 417\n",
      "Batch number: 418\n",
      "Batch number: 419\n",
      "Batch number: 420\n",
      "Batch number: 421\n",
      "Batch number: 422\n",
      "Batch number: 423\n",
      "Batch number: 424\n",
      "Batch number: 425\n",
      "Batch number: 426\n",
      "Batch number: 427\n",
      "Batch number: 428\n",
      "Batch number: 429\n",
      "Batch number: 430\n",
      "Batch number: 431\n",
      "Batch number: 432\n",
      "Batch number: 433\n",
      "Batch number: 434\n",
      "Batch number: 435\n",
      "Batch number: 436\n",
      "Batch number: 437\n",
      "Batch number: 438\n",
      "Batch number: 439\n",
      "Batch number: 440\n",
      "Batch number: 441\n",
      "Batch number: 442\n",
      "Batch number: 443\n",
      "Batch number: 444\n",
      "Batch number: 445\n",
      "Batch number: 446\n",
      "Batch number: 447\n",
      "Batch number: 448\n",
      "Batch number: 449\n",
      "Batch number: 450\n",
      "Batch number: 451\n",
      "Batch number: 452\n",
      "Batch number: 453\n",
      "Batch number: 454\n",
      "Batch number: 455\n",
      "Batch number: 456\n",
      "Batch number: 457\n",
      "Batch number: 458\n",
      "Batch number: 459\n",
      "Batch number: 460\n",
      "Batch number: 461\n",
      "Batch number: 462\n",
      "Batch number: 463\n",
      "Batch number: 464\n",
      "Batch number: 465\n",
      "Batch number: 466\n",
      "Batch number: 467\n",
      "Batch number: 468\n",
      "Batch number: 469\n",
      "Batch number: 470\n",
      "Batch number: 471\n",
      "Batch number: 472\n",
      "Batch number: 473\n",
      "Batch number: 474\n",
      "Batch number: 475\n",
      "Batch number: 476\n",
      "Batch number: 477\n",
      "Batch number: 478\n",
      "Batch number: 479\n",
      "Batch number: 480\n",
      "Batch number: 481\n",
      "Batch number: 482\n",
      "Batch number: 483\n",
      "Batch number: 484\n",
      "Batch number: 485\n",
      "Batch number: 486\n",
      "Batch number: 487\n",
      "Batch number: 488\n",
      "Batch number: 489\n",
      "Batch number: 490\n",
      "Batch number: 491\n",
      "Batch number: 492\n",
      "Batch number: 493\n",
      "Batch number: 494\n",
      "Batch number: 495\n",
      "Batch number: 496\n",
      "Batch number: 497\n",
      "Batch number: 498\n",
      "Batch number: 499\n",
      "Batch number: 500\n",
      "Batch number: 501\n",
      "Batch number: 502\n",
      "Batch number: 503\n",
      "Batch number: 504\n",
      "Batch number: 505\n",
      "Batch number: 506\n",
      "Batch number: 507\n",
      "Batch number: 508\n",
      "Batch number: 509\n",
      "Batch number: 510\n",
      "Batch number: 511\n",
      "Batch number: 512\n",
      "Batch number: 513\n",
      "Batch number: 514\n",
      "Batch number: 515\n",
      "Batch number: 516\n",
      "Batch number: 517\n",
      "Batch number: 518\n",
      "Batch number: 519\n",
      "Batch number: 520\n",
      "Batch number: 521\n",
      "Batch number: 522\n",
      "Batch number: 523\n",
      "Batch number: 524\n",
      "Batch number: 525\n",
      "Batch number: 526\n",
      "Batch number: 527\n",
      "Batch number: 528\n",
      "Batch number: 529\n",
      "Batch number: 530\n",
      "Batch number: 531\n",
      "Batch number: 532\n",
      "Batch number: 533\n",
      "Batch number: 534\n",
      "Batch number: 535\n",
      "Batch number: 536\n",
      "Batch number: 537\n",
      "Batch number: 538\n",
      "Batch number: 539\n",
      "Batch number: 540\n",
      "Batch number: 541\n",
      "Batch number: 542\n",
      "Batch number: 543\n",
      "Batch number: 544\n",
      "Batch number: 545\n",
      "Batch number: 546\n",
      "Batch number: 547\n",
      "Batch number: 548\n",
      "Batch number: 549\n",
      "Batch number: 550\n",
      "Batch number: 551\n",
      "Batch number: 552\n",
      "Batch number: 553\n",
      "Batch number: 554\n",
      "Batch number: 555\n",
      "Batch number: 556\n",
      "Batch number: 557\n",
      "Batch number: 558\n",
      "Batch number: 559\n",
      "Batch number: 560\n",
      "Batch number: 561\n",
      "Batch number: 562\n",
      "Batch number: 563\n",
      "Batch number: 564\n",
      "Batch number: 565\n",
      "Batch number: 566\n",
      "Batch number: 567\n",
      "Batch number: 568\n",
      "Batch number: 569\n",
      "Batch number: 570\n",
      "Batch number: 571\n",
      "Batch number: 572\n",
      "Batch number: 573\n",
      "Batch number: 574\n",
      "Batch number: 575\n",
      "Batch number: 576\n",
      "Batch number: 577\n",
      "Batch number: 578\n",
      "Batch number: 579\n",
      "Batch number: 580\n",
      "Batch number: 581\n",
      "Batch number: 582\n",
      "Batch number: 583\n",
      "Batch number: 584\n",
      "Batch number: 585\n",
      "Batch number: 586\n",
      "Batch number: 587\n",
      "Batch number: 588\n",
      "Batch number: 589\n",
      "Batch number: 590\n",
      "Batch number: 591\n",
      "Batch number: 592\n",
      "Batch number: 593\n",
      "Batch number: 594\n",
      "Batch number: 595\n",
      "Batch number: 596\n",
      "Batch number: 597\n",
      "Batch number: 598\n",
      "Batch number: 599\n",
      "Batch number: 600\n",
      "Batch number: 601\n",
      "Batch number: 602\n",
      "Batch number: 603\n",
      "Batch number: 604\n",
      "Batch number: 605\n",
      "Batch number: 606\n",
      "Batch number: 607\n",
      "Batch number: 608\n",
      "Batch number: 609\n",
      "Batch number: 610\n",
      "Batch number: 611\n",
      "Batch number: 612\n",
      "Batch number: 613\n",
      "Batch number: 614\n",
      "Batch number: 615\n",
      "Batch number: 616\n",
      "Batch number: 617\n",
      "Batch number: 618\n",
      "Batch number: 619\n",
      "Batch number: 620\n",
      "Batch number: 621\n",
      "Batch number: 622\n",
      "Batch number: 623\n",
      "Batch number: 624\n",
      "Batch number: 625\n",
      "Batch number: 626\n",
      "Batch number: 627\n",
      "Batch number: 628\n",
      "Batch number: 629\n",
      "Batch number: 630\n",
      "Batch number: 631\n",
      "Batch number: 632\n",
      "Batch number: 633\n",
      "Batch number: 634\n",
      "Batch number: 635\n",
      "Batch number: 636\n",
      "Batch number: 637\n",
      "Batch number: 638\n",
      "Batch number: 639\n",
      "Batch number: 640\n",
      "Batch number: 641\n",
      "Batch number: 642\n",
      "Batch number: 643\n",
      "Batch number: 644\n",
      "Batch number: 645\n",
      "Batch number: 646\n",
      "Batch number: 647\n",
      "Batch number: 648\n",
      "Batch number: 649\n",
      "Batch number: 650\n",
      "Batch number: 651\n",
      "Batch number: 652\n",
      "Batch number: 653\n",
      "Batch number: 654\n",
      "Batch number: 655\n",
      "Batch number: 656\n",
      "Batch number: 657\n",
      "Batch number: 658\n",
      "Batch number: 659\n",
      "Batch number: 660\n",
      "Batch number: 661\n",
      "Batch number: 662\n",
      "Batch number: 663\n",
      "Batch number: 664\n",
      "Batch number: 665\n",
      "Batch number: 666\n",
      "Batch number: 667\n",
      "Batch number: 668\n",
      "Batch number: 669\n",
      "Batch number: 670\n",
      "Batch number: 671\n",
      "Batch number: 672\n",
      "Batch number: 673\n",
      "Batch number: 674\n",
      "Batch number: 675\n",
      "Batch number: 676\n",
      "Batch number: 677\n",
      "Batch number: 678\n",
      "Batch number: 679\n",
      "Batch number: 680\n",
      "Batch number: 681\n",
      "Batch number: 682\n",
      "Batch number: 683\n",
      "Batch number: 684\n",
      "Batch number: 685\n",
      "Batch number: 686\n",
      "Batch number: 687\n",
      "Batch number: 688\n",
      "Batch number: 689\n",
      "Batch number: 690\n",
      "Batch number: 691\n",
      "Batch number: 692\n",
      "Batch number: 693\n",
      "Batch number: 694\n",
      "Batch number: 695\n",
      "Batch number: 696\n",
      "Batch number: 697\n",
      "Batch number: 698\n",
      "Batch number: 699\n",
      "Batch number: 700\n",
      "Batch number: 701\n",
      "Batch number: 702\n",
      "Batch number: 703\n",
      "Batch number: 704\n",
      "Batch number: 705\n",
      "Batch number: 706\n",
      "Batch number: 707\n",
      "Batch number: 708\n",
      "Batch number: 709\n",
      "Batch number: 710\n",
      "Batch number: 711\n",
      "Batch number: 712\n",
      "Batch number: 713\n",
      "Batch number: 714\n",
      "Batch number: 715\n",
      "Batch number: 716\n",
      "Batch number: 717\n",
      "Batch number: 718\n",
      "Batch number: 719\n",
      "Batch number: 720\n",
      "Batch number: 721\n",
      "Batch number: 722\n",
      "Batch number: 723\n",
      "Batch number: 724\n",
      "Batch number: 725\n",
      "Batch number: 726\n",
      "Batch number: 727\n",
      "Batch number: 728\n",
      "Batch number: 729\n",
      "Batch number: 730\n",
      "Batch number: 731\n",
      "Batch number: 732\n",
      "Batch number: 733\n",
      "Batch number: 734\n",
      "Batch number: 735\n",
      "Batch number: 736\n",
      "Batch number: 737\n",
      "Batch number: 738\n",
      "Batch number: 739\n",
      "Batch number: 740\n",
      "Batch number: 741\n",
      "Batch number: 742\n",
      "Batch number: 743\n",
      "Batch number: 744\n",
      "Batch number: 745\n",
      "Batch number: 746\n",
      "Batch number: 747\n",
      "Batch number: 748\n",
      "Batch number: 749\n",
      "Batch number: 750\n",
      "Batch number: 751\n",
      "Batch number: 752\n",
      "Batch number: 753\n",
      "Batch number: 754\n",
      "Batch number: 755\n",
      "Batch number: 756\n",
      "Batch number: 757\n",
      "Batch number: 758\n",
      "Batch number: 759\n",
      "Batch number: 760\n",
      "Batch number: 761\n",
      "Batch number: 762\n",
      "Batch number: 763\n",
      "Batch number: 764\n",
      "Batch number: 765\n",
      "Batch number: 766\n",
      "Batch number: 767\n",
      "Batch number: 768\n",
      "Batch number: 769\n",
      "Batch number: 770\n",
      "Batch number: 771\n",
      "Batch number: 772\n",
      "Batch number: 773\n",
      "Batch number: 774\n",
      "Batch number: 775\n",
      "Batch number: 776\n",
      "Batch number: 777\n",
      "Batch number: 778\n",
      "Batch number: 779\n",
      "Batch number: 780\n",
      "Batch number: 781\n",
      "Batch number: 782\n",
      "Batch number: 783\n",
      "Batch number: 784\n",
      "Batch number: 785\n",
      "Batch number: 786\n",
      "Batch number: 787\n",
      "Batch number: 788\n",
      "Batch number: 789\n",
      "Batch number: 790\n",
      "Batch number: 791\n",
      "Batch number: 792\n",
      "Batch number: 793\n",
      "Batch number: 794\n",
      "Batch number: 795\n",
      "Batch number: 796\n",
      "Batch number: 797\n",
      "Batch number: 798\n",
      "Batch number: 799\n",
      "Batch number: 800\n",
      "Batch number: 801\n",
      "Batch number: 802\n",
      "Batch number: 803\n",
      "Batch number: 804\n",
      "Batch number: 805\n",
      "Batch number: 806\n",
      "Batch number: 807\n",
      "Batch number: 808\n",
      "Batch number: 809\n",
      "Batch number: 810\n",
      "Batch number: 811\n",
      "Batch number: 812\n",
      "Batch number: 813\n",
      "Batch number: 814\n",
      "Batch number: 815\n",
      "Batch number: 816\n",
      "Batch number: 817\n",
      "Batch number: 818\n",
      "Batch number: 819\n",
      "Batch number: 820\n",
      "Batch number: 821\n",
      "Batch number: 822\n",
      "Batch number: 823\n",
      "Batch number: 824\n",
      "Batch number: 825\n",
      "Batch number: 826\n",
      "Batch number: 827\n",
      "Batch number: 828\n",
      "Batch number: 829\n",
      "Batch number: 830\n",
      "Batch number: 831\n",
      "Batch number: 832\n",
      "Batch number: 833\n",
      "Batch number: 834\n",
      "Batch number: 835\n",
      "Batch number: 836\n",
      "Batch number: 837\n",
      "Batch number: 838\n",
      "Batch number: 839\n",
      "Batch number: 840\n",
      "Batch number: 841\n",
      "Batch number: 842\n",
      "Batch number: 843\n",
      "Batch number: 844\n",
      "Batch number: 845\n",
      "Batch number: 846\n",
      "Batch number: 847\n",
      "Batch number: 848\n",
      "Batch number: 849\n",
      "Batch number: 850\n",
      "Batch number: 851\n",
      "Batch number: 852\n",
      "Batch number: 853\n",
      "Batch number: 854\n",
      "Batch number: 855\n",
      "Batch number: 856\n",
      "Batch number: 857\n",
      "Batch number: 858\n",
      "Batch number: 859\n",
      "Batch number: 860\n",
      "Batch number: 861\n",
      "Batch number: 862\n",
      "Batch number: 863\n",
      "Batch number: 864\n",
      "Batch number: 865\n",
      "Batch number: 866\n",
      "Batch number: 867\n",
      "Batch number: 868\n",
      "Batch number: 869\n",
      "Batch number: 870\n",
      "Batch number: 871\n",
      "Batch number: 872\n",
      "Batch number: 873\n",
      "Batch number: 874\n",
      "Batch number: 875\n",
      "Batch number: 876\n",
      "Batch number: 877\n",
      "Batch number: 878\n",
      "Batch number: 879\n",
      "Batch number: 880\n",
      "Batch number: 881\n",
      "Batch number: 882\n",
      "Batch number: 883\n",
      "Batch number: 884\n",
      "Batch number: 885\n",
      "Batch number: 886\n",
      "Batch number: 887\n",
      "Batch number: 888\n",
      "Batch number: 889\n",
      "Batch number: 890\n",
      "Batch number: 891\n",
      "Batch number: 892\n",
      "Batch number: 893\n",
      "Batch number: 894\n",
      "Batch number: 895\n",
      "Batch number: 896\n",
      "Batch number: 897\n",
      "Batch number: 898\n",
      "Batch number: 899\n",
      "Batch number: 900\n",
      "Batch number: 901\n",
      "Batch number: 902\n",
      "Batch number: 903\n",
      "Batch number: 904\n",
      "Batch number: 905\n",
      "Batch number: 906\n",
      "Batch number: 907\n",
      "Batch number: 908\n",
      "Batch number: 909\n",
      "Batch number: 910\n",
      "Batch number: 911\n",
      "Batch number: 912\n",
      "Batch number: 913\n",
      "Batch number: 914\n",
      "Batch number: 915\n",
      "Batch number: 916\n",
      "Batch number: 917\n",
      "Batch number: 918\n",
      "Batch number: 919\n",
      "Batch number: 920\n",
      "Batch number: 921\n",
      "Batch number: 922\n",
      "Batch number: 923\n",
      "Batch number: 924\n",
      "Batch number: 925\n",
      "Batch number: 926\n",
      "Batch number: 927\n",
      "Batch number: 928\n",
      "Batch number: 929\n",
      "Batch number: 930\n",
      "Batch number: 931\n",
      "Batch number: 932\n",
      "Batch number: 933\n",
      "Batch number: 934\n",
      "Batch number: 935\n",
      "Batch number: 936\n",
      "Batch number: 937\n",
      "Batch number: 938\n",
      "Batch number: 939\n",
      "Batch number: 940\n",
      "Batch number: 941\n",
      "Batch number: 942\n",
      "Batch number: 943\n",
      "Batch number: 944\n",
      "Batch number: 945\n",
      "Batch number: 946\n",
      "Batch number: 947\n",
      "Batch number: 948\n",
      "Batch number: 949\n",
      "Batch number: 950\n",
      "Batch number: 951\n",
      "Batch number: 952\n",
      "Batch number: 953\n",
      "Batch number: 954\n",
      "Batch number: 955\n",
      "Batch number: 956\n",
      "Batch number: 957\n",
      "Batch number: 958\n",
      "Batch number: 959\n",
      "Batch number: 960\n",
      "Batch number: 961\n",
      "Batch number: 962\n",
      "Batch number: 963\n",
      "Batch number: 964\n",
      "Batch number: 965\n",
      "Batch number: 966\n",
      "Batch number: 967\n",
      "Batch number: 968\n",
      "Batch number: 969\n",
      "Batch number: 970\n",
      "Batch number: 971\n",
      "Batch number: 972\n",
      "Batch number: 973\n",
      "Batch number: 974\n",
      "Batch number: 975\n",
      "Batch number: 976\n",
      "Batch number: 977\n",
      "Batch number: 978\n",
      "Batch number: 979\n",
      "Batch number: 980\n",
      "Batch number: 981\n",
      "Batch number: 982\n",
      "Batch number: 983\n",
      "Batch number: 984\n",
      "Batch number: 985\n",
      "Batch number: 986\n",
      "Batch number: 987\n",
      "Batch number: 988\n",
      "Batch number: 989\n",
      "Batch number: 990\n",
      "Batch number: 991\n",
      "Batch number: 992\n",
      "Batch number: 993\n",
      "Batch number: 994\n",
      "Batch number: 995\n",
      "Batch number: 996\n",
      "Batch number: 997\n",
      "Batch number: 998\n",
      "Batch number: 999\n",
      "Batch number: 1000\n"
     ]
    }
   ],
   "source": [
    "# convert np.ndarray to list\n",
    "df['values'] = df['values'].apply(lambda x: x.tolist())\n",
    "\n",
    "batch_number = 0\n",
    "for chunk in chunks(df, batch_size=100):\n",
    "    batch_number += 1\n",
    "    print(f\"Batch number: {batch_number}\")\n",
    "    index.upsert(vectors=chunk.to_dict(orient='records'))\n",
    "    \n",
    "time.sleep(2)"
   ],
   "metadata": {
    "collapsed": false,
    "ExecuteTime": {
     "end_time": "2023-12-11T16:11:01.358070Z",
     "start_time": "2023-12-11T15:45:57.077451Z"
    }
   },
   "id": "c843b147eb52de19"
  },
  {
   "cell_type": "code",
   "execution_count": 3,
   "outputs": [
    {
     "data": {
      "text/plain": "{'dimension': 1536,\n 'index_fullness': 1.0,\n 'namespaces': {'': {'vector_count': 100000}},\n 'total_vector_count': 100000}"
     },
     "execution_count": 3,
     "metadata": {},
     "output_type": "execute_result"
    }
   ],
   "source": [
    "index.describe_index_stats()"
   ],
   "metadata": {
    "collapsed": false,
    "ExecuteTime": {
     "end_time": "2023-12-19T18:32:56.390657Z",
     "start_time": "2023-12-19T18:32:56.215812Z"
    }
   },
   "id": "b01c0c8df0505fd5"
  },
  {
   "cell_type": "markdown",
   "source": [
    "# Step3: Query"
   ],
   "metadata": {
    "collapsed": false
   },
   "id": "223e2a1911e61f69"
  },
  {
   "cell_type": "code",
   "execution_count": 13,
   "outputs": [
    {
     "data": {
      "text/plain": "[Document(page_content='Marcos Alberto Skavinski (born 28 March 1975) is a Brazilian football player. He plays for Goiás.\\n\\nClub career statistics\\n\\n|-\\n|2006||Kawasaki Frontale||J. League 1||28||2||2||0||9||1||39||3\\n28||2||2||0||9||1||39||3\\n28||2||2||0||9||1||39||3\\n|}\\n\\n1975 births\\nLiving people\\nBrazilian footballers\\nPeople from Curitiba', metadata={'chunk': 0.0, 'source': 'https://simple.wikipedia.org/wiki/Marcos%20Alberto%20Skavinski', 'title': 'Marcos Alberto Skavinski', 'wiki-id': '200643'}),\n Document(page_content='Marcos Gomes de Araujo (born 23 March 1976) is a Brazilian football player. He plays for Kashima Antlers.\\n\\nClub career statistics', metadata={'chunk': 0.0, 'source': 'https://simple.wikipedia.org/wiki/Marcos%20Gomes%20de%20Araujo', 'title': 'Marcos Gomes de Araujo', 'wiki-id': '199408'}),\n Document(page_content='Marcelo Baron Polanczyk (born 19 January 1974) is a former Brazilian football player.\\n\\nClub career statistics', metadata={'chunk': 0.0, 'source': 'https://simple.wikipedia.org/wiki/Marcelo%20Baron%20Polanczyk', 'title': 'Marcelo Baron Polanczyk', 'wiki-id': '164612'}),\n Document(page_content='Warwick Estevam Kerr (born September 9, 1922, Santana do Parnaíba, São Paulo, Brazil- 15 September 2018) is a Brazilian engineer, geneticist, entomologist, and professor. He made many discoveries in the genetics and sex determination of bees. He is also responsible for the spread of africanized bees across the world.\\n\\nOther websites \\nWarwick Estevam Kerr Biography . Brazilian Academy of Sciences.\\n\\n1922 births\\n2018 deaths\\nBiologists\\nSão Paulo (state)\\nBrazilian scientists', metadata={'chunk': 0.0, 'source': 'https://simple.wikipedia.org/wiki/Warwick%20Estevam%20Kerr', 'title': 'Warwick Estevam Kerr', 'wiki-id': '67901'}),\n Document(page_content=\"In 1876 he was appointed as Travelling Naturalist to the National Museum in Rio de Janeiro. This was the ideal post for him: it gave him the opportunity to range over the whole of the Itajaí system and study anything that interested him. A series of reports published in the Archivos of the National Museum record this work.\\n\\nAt last this, the best period of his life, was brought to an end indirectly, by the overthrow of the liberal monarchy of Dom Pedro II in 1889. The new Brazilian Republic was riddled with corruption and nepotism, and eventually there was a civil war in 1893-5. Travelling naturalists were to be based in Rio de Janeiro, and instructions were sent out. Müller refused point-blank and was dismissed, as was von Ihering in São Paulo.\\n\\nIn his retirement years Müller received many letters of support and offers of financial help (from Darwin, amongst others). His cousin Alfred Möller visited him, and eventually became his biographer. His rewards during life from the Brazilian state were minor; but his reputation now stands high. He was one of a half-dozen great naturalists to visit and work in South America during the nineteenth century. Humboldt, Darwin, Wallace, Bates, Spruce — and Fritz Müller. He was the only one of these to settle in Brazil for the rest of his life. A statue was erected to Müller in Blumenau in 1929.\\n\\nAnother of Fritz's brothers, Hermann Müller, was also an evolutionary biologist. He was especially interested in the coevolution between insects and flowers.p29 He, too, corresponded with Dariwn, who arranged for his 1873 book to be translated into English.\\n\\nChronology of life \\nA broad chronology of Müller's life is as follows:\", metadata={'chunk': 1.0, 'source': 'https://simple.wikipedia.org/wiki/Fritz%20M%C3%BCller', 'title': 'Fritz Müller', 'wiki-id': '199743'})]"
     },
     "execution_count": 13,
     "metadata": {},
     "output_type": "execute_result"
    }
   ],
   "source": [
    "openai_key = os.getenv('OPENAI_API_KEY')\n",
    "embeddings = OpenAIEmbeddings(openai_api_key=openai_key)\n",
    "\n",
    "# loading aleady created index\n",
    "docsearch = Pinecone.from_existing_index(index_name, embeddings)\n",
    "query= \"Tell me about the Brazilian researcher Marcos Kalinowski\"\n",
    "docs = docsearch.similarity_search(query=query, k=5)\n",
    "docs"
   ],
   "metadata": {
    "collapsed": false,
    "ExecuteTime": {
     "end_time": "2024-01-19T09:52:57.645491Z",
     "start_time": "2024-01-19T09:52:56.520012Z"
    }
   },
   "id": "4edbeaaae54064b8"
  },
  {
   "cell_type": "code",
   "execution_count": 14,
   "outputs": [
    {
     "name": "stdout",
     "output_type": "stream",
     "text": [
      "Title: Marcos Alberto Skavinski\n",
      "Marcos Alberto Skavinski (born 28 March 1975) is a Brazilian football player. He plays for Goiás.\n",
      "\n",
      "Club career statistics\n",
      "\n",
      "|-\n",
      "|2006||Kawasaki Frontale||J. League 1||28||2||2||0||9||1||39||3\n",
      "28||2||2||0||9||1||39||3\n",
      "28||2||2||0||9||1||39||3\n",
      "|}\n",
      "\n",
      "1975 births\n",
      "Living people\n",
      "Brazilian footballers\n",
      "People from Curitiba\n",
      "-------------------\n",
      "Title: Marcos Gomes de Araujo\n",
      "Marcos Gomes de Araujo (born 23 March 1976) is a Brazilian football player. He plays for Kashima Antlers.\n",
      "\n",
      "Club career statistics\n",
      "-------------------\n",
      "Title: Marcelo Baron Polanczyk\n",
      "Marcelo Baron Polanczyk (born 19 January 1974) is a former Brazilian football player.\n",
      "\n",
      "Club career statistics\n",
      "-------------------\n",
      "Title: Warwick Estevam Kerr\n",
      "Warwick Estevam Kerr (born September 9, 1922, Santana do Parnaíba, São Paulo, Brazil- 15 September 2018) is a Brazilian engineer, geneticist, entomologist, and professor. He made many discoveries in the genetics and sex determination of bees. He is also responsible for the spread of africanized bees across the world.\n",
      "\n",
      "Other websites \n",
      "Warwick Estevam Kerr Biography . Brazilian Academy of Sciences.\n",
      "\n",
      "1922 births\n",
      "2018 deaths\n",
      "Biologists\n",
      "São Paulo (state)\n",
      "Brazilian scientists\n",
      "-------------------\n",
      "Title: Fritz Müller\n",
      "In 1876 he was appointed as Travelling Naturalist to the National Museum in Rio de Janeiro. This was the ideal post for him: it gave him the opportunity to range over the whole of the Itajaí system and study anything that interested him. A series of reports published in the Archivos of the National Museum record this work.\n",
      "\n",
      "At last this, the best period of his life, was brought to an end indirectly, by the overthrow of the liberal monarchy of Dom Pedro II in 1889. The new Brazilian Republic was riddled with corruption and nepotism, and eventually there was a civil war in 1893-5. Travelling naturalists were to be based in Rio de Janeiro, and instructions were sent out. Müller refused point-blank and was dismissed, as was von Ihering in São Paulo.\n",
      "\n",
      "In his retirement years Müller received many letters of support and offers of financial help (from Darwin, amongst others). His cousin Alfred Möller visited him, and eventually became his biographer. His rewards during life from the Brazilian state were minor; but his reputation now stands high. He was one of a half-dozen great naturalists to visit and work in South America during the nineteenth century. Humboldt, Darwin, Wallace, Bates, Spruce — and Fritz Müller. He was the only one of these to settle in Brazil for the rest of his life. A statue was erected to Müller in Blumenau in 1929.\n",
      "\n",
      "Another of Fritz's brothers, Hermann Müller, was also an evolutionary biologist. He was especially interested in the coevolution between insects and flowers.p29 He, too, corresponded with Dariwn, who arranged for his 1873 book to be translated into English.\n",
      "\n",
      "Chronology of life \n",
      "A broad chronology of Müller's life is as follows:\n",
      "-------------------\n"
     ]
    }
   ],
   "source": [
    "for doc in docs:\n",
    "    print(f\"Title: {doc.metadata['title']}\")\n",
    "    print(doc.page_content)\n",
    "    print('-------------------')"
   ],
   "metadata": {
    "collapsed": false,
    "ExecuteTime": {
     "end_time": "2024-01-19T09:52:59.299682Z",
     "start_time": "2024-01-19T09:52:59.266181Z"
    }
   },
   "id": "6ce4484d433f4740"
  },
  {
   "cell_type": "markdown",
   "source": [
    "# Step4: Retrieve\n",
    "search_type (Optional[str]) – Defines the type of search that the Retriever should perform. Can be:\n",
    " - “similarity” (default), \n",
    " - “mmr”, or \n",
    " - “similarity_score_threshold”.\n",
    "\n",
    "search_kwargs (Optional[Dict]) – Keyword arguments to pass to the search function. Can include things like:\n",
    "\n",
    "- k: Amount of documents to return (Default: 4),\n",
    "- score_threshold: Minimum relevance threshold for similarity_score_threshold\n",
    "- fetch_k: Amount of documents to pass to MMR algorithm (Default: 20) \n",
    "- lambda_mult: Diversity of results returned by MMR; 1 for minimum diversity and 0 for maximum. (Default: 0.5)\n",
    "- filter: Filter by document metadata"
   ],
   "metadata": {
    "collapsed": false
   },
   "id": "a9fa18245ee8e0b6"
  },
  {
   "cell_type": "code",
   "execution_count": 15,
   "outputs": [
    {
     "data": {
      "text/plain": "[Document(page_content='Marcos Alberto Skavinski (born 28 March 1975) is a Brazilian football player. He plays for Goiás.\\n\\nClub career statistics\\n\\n|-\\n|2006||Kawasaki Frontale||J. League 1||28||2||2||0||9||1||39||3\\n28||2||2||0||9||1||39||3\\n28||2||2||0||9||1||39||3\\n|}\\n\\n1975 births\\nLiving people\\nBrazilian footballers\\nPeople from Curitiba', metadata={'chunk': 0.0, 'source': 'https://simple.wikipedia.org/wiki/Marcos%20Alberto%20Skavinski', 'title': 'Marcos Alberto Skavinski', 'wiki-id': '200643'}),\n Document(page_content='Marcos Gomes de Araujo (born 23 March 1976) is a Brazilian football player. He plays for Kashima Antlers.\\n\\nClub career statistics', metadata={'chunk': 0.0, 'source': 'https://simple.wikipedia.org/wiki/Marcos%20Gomes%20de%20Araujo', 'title': 'Marcos Gomes de Araujo', 'wiki-id': '199408'}),\n Document(page_content='Marcelo Baron Polanczyk (born 19 January 1974) is a former Brazilian football player.\\n\\nClub career statistics', metadata={'chunk': 0.0, 'source': 'https://simple.wikipedia.org/wiki/Marcelo%20Baron%20Polanczyk', 'title': 'Marcelo Baron Polanczyk', 'wiki-id': '164612'}),\n Document(page_content='Warwick Estevam Kerr (born September 9, 1922, Santana do Parnaíba, São Paulo, Brazil- 15 September 2018) is a Brazilian engineer, geneticist, entomologist, and professor. He made many discoveries in the genetics and sex determination of bees. He is also responsible for the spread of africanized bees across the world.\\n\\nOther websites \\nWarwick Estevam Kerr Biography . Brazilian Academy of Sciences.\\n\\n1922 births\\n2018 deaths\\nBiologists\\nSão Paulo (state)\\nBrazilian scientists', metadata={'chunk': 0.0, 'source': 'https://simple.wikipedia.org/wiki/Warwick%20Estevam%20Kerr', 'title': 'Warwick Estevam Kerr', 'wiki-id': '67901'}),\n Document(page_content=\"In 1876 he was appointed as Travelling Naturalist to the National Museum in Rio de Janeiro. This was the ideal post for him: it gave him the opportunity to range over the whole of the Itajaí system and study anything that interested him. A series of reports published in the Archivos of the National Museum record this work.\\n\\nAt last this, the best period of his life, was brought to an end indirectly, by the overthrow of the liberal monarchy of Dom Pedro II in 1889. The new Brazilian Republic was riddled with corruption and nepotism, and eventually there was a civil war in 1893-5. Travelling naturalists were to be based in Rio de Janeiro, and instructions were sent out. Müller refused point-blank and was dismissed, as was von Ihering in São Paulo.\\n\\nIn his retirement years Müller received many letters of support and offers of financial help (from Darwin, amongst others). His cousin Alfred Möller visited him, and eventually became his biographer. His rewards during life from the Brazilian state were minor; but his reputation now stands high. He was one of a half-dozen great naturalists to visit and work in South America during the nineteenth century. Humboldt, Darwin, Wallace, Bates, Spruce — and Fritz Müller. He was the only one of these to settle in Brazil for the rest of his life. A statue was erected to Müller in Blumenau in 1929.\\n\\nAnother of Fritz's brothers, Hermann Müller, was also an evolutionary biologist. He was especially interested in the coevolution between insects and flowers.p29 He, too, corresponded with Dariwn, who arranged for his 1873 book to be translated into English.\\n\\nChronology of life \\nA broad chronology of Müller's life is as follows:\", metadata={'chunk': 1.0, 'source': 'https://simple.wikipedia.org/wiki/Fritz%20M%C3%BCller', 'title': 'Fritz Müller', 'wiki-id': '199743'}),\n Document(page_content='Marcos Nozomi Munakata (born 1959 3 February) is a former Brazilian football player.\\n\\nReferences\\n\\n1959 births\\nLiving people\\nBrazilian footballers', metadata={'chunk': 0.0, 'source': 'https://simple.wikipedia.org/wiki/Marcos%20Nozomi%20Munakata', 'title': 'Marcos Nozomi Munakata', 'wiki-id': '209264'})]"
     },
     "execution_count": 15,
     "metadata": {},
     "output_type": "execute_result"
    }
   ],
   "source": [
    "retriever = docsearch.as_retriever(search_type=\"similarity\", search_kwargs={\"k\": 6})\n",
    "\n",
    "retrieved_docs = retriever.get_relevant_documents(query=query)\n",
    "retrieved_docs"
   ],
   "metadata": {
    "collapsed": false,
    "ExecuteTime": {
     "end_time": "2024-01-19T09:53:02.298043Z",
     "start_time": "2024-01-19T09:53:00.519456Z"
    }
   },
   "id": "c5ea7fed16083b4"
  },
  {
   "cell_type": "code",
   "execution_count": 16,
   "outputs": [
    {
     "name": "stdout",
     "output_type": "stream",
     "text": [
      "Title: Marcos Alberto Skavinski\n",
      "Marcos Alberto Skavinski (born 28 March 1975) is a Brazilian football player. He plays for Goiás.\n",
      "\n",
      "Club career statistics\n",
      "\n",
      "|-\n",
      "|2006||Kawasaki Frontale||J. League 1||28||2||2||0||9||1||39||3\n",
      "28||2||2||0||9||1||39||3\n",
      "28||2||2||0||9||1||39||3\n",
      "|}\n",
      "\n",
      "1975 births\n",
      "Living people\n",
      "Brazilian footballers\n",
      "People from Curitiba\n",
      "-------------------\n",
      "Title: Marcos Gomes de Araujo\n",
      "Marcos Gomes de Araujo (born 23 March 1976) is a Brazilian football player. He plays for Kashima Antlers.\n",
      "\n",
      "Club career statistics\n",
      "-------------------\n",
      "Title: Marcelo Baron Polanczyk\n",
      "Marcelo Baron Polanczyk (born 19 January 1974) is a former Brazilian football player.\n",
      "\n",
      "Club career statistics\n",
      "-------------------\n",
      "Title: Warwick Estevam Kerr\n",
      "Warwick Estevam Kerr (born September 9, 1922, Santana do Parnaíba, São Paulo, Brazil- 15 September 2018) is a Brazilian engineer, geneticist, entomologist, and professor. He made many discoveries in the genetics and sex determination of bees. He is also responsible for the spread of africanized bees across the world.\n",
      "\n",
      "Other websites \n",
      "Warwick Estevam Kerr Biography . Brazilian Academy of Sciences.\n",
      "\n",
      "1922 births\n",
      "2018 deaths\n",
      "Biologists\n",
      "São Paulo (state)\n",
      "Brazilian scientists\n",
      "-------------------\n",
      "Title: Fritz Müller\n",
      "In 1876 he was appointed as Travelling Naturalist to the National Museum in Rio de Janeiro. This was the ideal post for him: it gave him the opportunity to range over the whole of the Itajaí system and study anything that interested him. A series of reports published in the Archivos of the National Museum record this work.\n",
      "\n",
      "At last this, the best period of his life, was brought to an end indirectly, by the overthrow of the liberal monarchy of Dom Pedro II in 1889. The new Brazilian Republic was riddled with corruption and nepotism, and eventually there was a civil war in 1893-5. Travelling naturalists were to be based in Rio de Janeiro, and instructions were sent out. Müller refused point-blank and was dismissed, as was von Ihering in São Paulo.\n",
      "\n",
      "In his retirement years Müller received many letters of support and offers of financial help (from Darwin, amongst others). His cousin Alfred Möller visited him, and eventually became his biographer. His rewards during life from the Brazilian state were minor; but his reputation now stands high. He was one of a half-dozen great naturalists to visit and work in South America during the nineteenth century. Humboldt, Darwin, Wallace, Bates, Spruce — and Fritz Müller. He was the only one of these to settle in Brazil for the rest of his life. A statue was erected to Müller in Blumenau in 1929.\n",
      "\n",
      "Another of Fritz's brothers, Hermann Müller, was also an evolutionary biologist. He was especially interested in the coevolution between insects and flowers.p29 He, too, corresponded with Dariwn, who arranged for his 1873 book to be translated into English.\n",
      "\n",
      "Chronology of life \n",
      "A broad chronology of Müller's life is as follows:\n",
      "-------------------\n",
      "Title: Marcos Nozomi Munakata\n",
      "Marcos Nozomi Munakata (born 1959 3 February) is a former Brazilian football player.\n",
      "\n",
      "References\n",
      "\n",
      "1959 births\n",
      "Living people\n",
      "Brazilian footballers\n",
      "-------------------\n"
     ]
    }
   ],
   "source": [
    "for doc in retrieved_docs:\n",
    "    print(f\"Title: {doc.metadata['title']}\")\n",
    "    print(doc.page_content)\n",
    "    print('-------------------')"
   ],
   "metadata": {
    "collapsed": false,
    "ExecuteTime": {
     "end_time": "2024-01-19T09:53:04.158643Z",
     "start_time": "2024-01-19T09:53:04.129299Z"
    }
   },
   "id": "a6468fc7d1a5e8e2"
  },
  {
   "cell_type": "markdown",
   "source": [
    "# Step5: Generate\n",
    "__Prompt definition__: \"You are an assistant for question-answering tasks. Use the following pieces of retrieved context to answer the question. If you don't know the answer, just say that you don't know. Use three sentences maximum and keep the answer concise.\n",
    "Question: {question} \n",
    "Context: {context} \n",
    "Answer:\""
   ],
   "metadata": {
    "collapsed": false
   },
   "id": "d2a1fa4314fafba"
  },
  {
   "cell_type": "code",
   "execution_count": 17,
   "outputs": [
    {
     "name": "stdout",
     "output_type": "stream",
     "text": [
      "Human: You are an assistant for question-answering tasks. Use the following pieces of retrieved context to answer the question. If you don't know the answer, just say that you don't know. Use three sentences maximum and keep the answer concise.\n",
      "Question: filler question \n",
      "Context: filler context \n",
      "Answer:\n"
     ]
    }
   ],
   "source": [
    "llm = ChatOpenAI(model_name=\"gpt-3.5-turbo\", temperature=0)\n",
    "prompt = hub.pull(\"rlm/rag-prompt\")\n",
    "print(\n",
    "    prompt.invoke(\n",
    "        {\"context\": \"filler context\", \"question\": \"filler question\"}\n",
    "    ).to_string()\n",
    ")"
   ],
   "metadata": {
    "collapsed": false,
    "ExecuteTime": {
     "end_time": "2024-01-19T09:53:09.154879Z",
     "start_time": "2024-01-19T09:53:07.656177Z"
    }
   },
   "id": "e9c80f1a6ea3531f"
  },
  {
   "cell_type": "code",
   "execution_count": 18,
   "outputs": [],
   "source": [
    "def format_docs(docs):\n",
    "    return \"\\n\\n\".join(doc.page_content for doc in docs)\n",
    "\n",
    "\n",
    "rag_chain = (\n",
    "    {\"context\": retriever | format_docs, \"question\": RunnablePassthrough()}\n",
    "    | prompt\n",
    "    | llm\n",
    "    | StrOutputParser()\n",
    ")"
   ],
   "metadata": {
    "collapsed": false,
    "ExecuteTime": {
     "end_time": "2024-01-19T09:53:10.269077Z",
     "start_time": "2024-01-19T09:53:10.239680Z"
    }
   },
   "id": "1ae9f6e3a2bbc8e4"
  },
  {
   "cell_type": "code",
   "execution_count": 36,
   "outputs": [
    {
     "name": "stdout",
     "output_type": "stream",
     "text": [
      "Apollo 11 was the first flight to send people to the moon. It was done by NASA and carried three astronauts: Neil Armstrong, Buzz Aldrin, and Michael Collins. Armstrong and Aldrin became the first humans to land on the moon on July 20, 1969. They conducted experiments, collected moon rocks, and set up an American flag before returning to Earth."
     ]
    }
   ],
   "source": [
    "for chunk in rag_chain.stream(\"Tell me about how we landed on the moon\"):\n",
    "    print(chunk, end=\"\", flush=True)"
   ],
   "metadata": {
    "collapsed": false,
    "ExecuteTime": {
     "end_time": "2024-01-19T13:30:14.538051Z",
     "start_time": "2024-01-19T13:30:04.945188Z"
    }
   },
   "id": "51740e9e5b4e899c"
  },
  {
   "cell_type": "markdown",
   "source": [
    "### Now with a LLama 2 7B"
   ],
   "metadata": {
    "collapsed": false
   },
   "id": "687343eacc8b32fc"
  },
  {
   "cell_type": "code",
   "outputs": [],
   "source": [
    "from langchain.callbacks.manager import CallbackManager\n",
    "from langchain.callbacks.streaming_stdout import StreamingStdOutCallbackHandler\n",
    "#from langchain.chains import LLMChain\n",
    "from langchain.prompts import PromptTemplate\n",
    "from langchain_community.llms import LlamaCpp, Ollama"
   ],
   "metadata": {
    "collapsed": false,
    "ExecuteTime": {
     "end_time": "2024-01-19T12:05:32.570868Z",
     "start_time": "2024-01-19T12:05:32.563505Z"
    }
   },
   "id": "a105f2e8e99cfde5",
   "execution_count": 31
  },
  {
   "cell_type": "code",
   "outputs": [
    {
     "data": {
      "text/plain": "'The capital of France is Paris.'"
     },
     "execution_count": 33,
     "metadata": {},
     "output_type": "execute_result"
    }
   ],
   "source": [
    "#llama_llm = Ollama(model=\"llama2\", callback_manager=CallbackManager([StreamingStdOutCallbackHandler()]))\n",
    "llama_llm = Ollama(model=\"llama2\")\n",
    "\n",
    "llama_llm(\"What is the capital of France?\")"
   ],
   "metadata": {
    "collapsed": false,
    "ExecuteTime": {
     "end_time": "2024-01-19T12:10:39.378552Z",
     "start_time": "2024-01-19T12:09:28.789127Z"
    }
   },
   "id": "bd2cc4e2a4b1229d",
   "execution_count": 33
  },
  {
   "cell_type": "code",
   "outputs": [],
   "source": [
    "def format_docs(docs):\n",
    "    return \"\\n\\n\".join(doc.page_content for doc in docs)\n",
    "\n",
    "\n",
    "rag_chain_llama = (\n",
    "    {\"context\": retriever | format_docs, \"question\": RunnablePassthrough()}\n",
    "    | prompt\n",
    "    | llama_llm\n",
    "    | StrOutputParser()\n",
    ")"
   ],
   "metadata": {
    "collapsed": false,
    "ExecuteTime": {
     "end_time": "2024-01-19T12:11:40.782839Z",
     "start_time": "2024-01-19T12:11:40.750637Z"
    }
   },
   "id": "100919f634d51ed8",
   "execution_count": 34
  },
  {
   "cell_type": "code",
   "outputs": [
    {
     "name": "stdout",
     "output_type": "stream",
     "text": [
      "The Apollo program was a project by NASA to send humans to explore the Moon and bring them back to Earth safely. The program started in 1961 due to the Soviet Union's success in sending a person into outer space during the Cold War. The spacecraft used for the Apollo missions were made up of a Command and Service Module and a Lunar Module, which docked on the way to the Moon. The program consisted of several mission types, each testing specific parts and tasks, with the goal of landing a person on the Moon and returning them safely to Earth.\n",
      "Some conspiracy theories claim that the Apollo Moon landings were faked or hoaxed, but there is no credible evidence to support these claims. The rocks collected during the Apollo missions have been extensively studied by scientists around the world, and they are found to be very different from meteorites and other rocks found on Earth. In addition, the Lunar Reconnaissance Orbiter was able to photograph the Apollo 14 landing site in 2009, clearly showing the base of the lunar module and the astronauts' footprints on the Moon's surface.\n",
      "NASA has addressed some of the conspiracy theories over the years, including releasing materials to refute hoax claims and canceling a book project by a former rocket scientist who was also a moon landing conspiracy theorist. In 2006, some recordings of the Apollo era were declared missing, leading to speculation among conspiracy theorists that they had been erased. However, NASA later revealed that the tapes had been erased due to a mistake.\n",
      "Overall, while there are some conspiracy theories surrounding the Apollo Moon landings, there is no credible evidence to support these claims, and the overwhelming scientific consensus is that the Moon landings did in fact occur."
     ]
    }
   ],
   "source": [
    "for chunk in rag_chain_llama.stream(\"Tell me about how we landed on the moon\"):\n",
    "    print(chunk, end=\"\", flush=True)"
   ],
   "metadata": {
    "collapsed": false,
    "ExecuteTime": {
     "end_time": "2024-01-19T13:27:31.783524Z",
     "start_time": "2024-01-19T12:12:05.427753Z"
    }
   },
   "id": "d9a9156076d604e8",
   "execution_count": 35
  },
  {
   "cell_type": "markdown",
   "source": [
    "# Customized prompt"
   ],
   "metadata": {
    "collapsed": false
   },
   "id": "b3bca9e3bb8ba607"
  },
  {
   "cell_type": "code",
   "execution_count": 20,
   "outputs": [],
   "source": [
    "template = \"\"\"Use the following pieces of context to make an email answering the question.\n",
    "If you don't know the answer, just say that you don't know, don't try to make up an answer.\n",
    "Start every email with Dear [Name] , and end it respectfully [Name].\n",
    "keep the answer as concise as possible.\n",
    "{context}\n",
    "Question: {question}\n",
    "Email Answer:\"\"\"\n",
    "rag_prompt_custom = PromptTemplate.from_template(template)\n",
    "\n",
    "rag_chain = (\n",
    "    {\"context\": retriever | format_docs, \"question\": RunnablePassthrough()}\n",
    "    | rag_prompt_custom\n",
    "    | llm\n",
    "    | StrOutputParser()\n",
    ")"
   ],
   "metadata": {
    "collapsed": false,
    "ExecuteTime": {
     "end_time": "2023-12-19T18:50:14.190327Z",
     "start_time": "2023-12-19T18:50:14.165494Z"
    }
   },
   "id": "39e68e9137c16ed0"
  },
  {
   "cell_type": "code",
   "execution_count": 21,
   "outputs": [
    {
     "name": "stdout",
     "output_type": "stream",
     "text": [
      "Dear [Name],\n",
      "\n",
      "Yes, there was a diplomatic situation between Great Britain and Germany during the 1930s. After Germany's invasion of Poland, Britain and France warned Germany to move all soldiers out of Poland or there would be war. Germany did not respond, and as a result, Britain and France declared war on Germany on September 3, 1939.\n",
      "Thank you.\n",
      "Respectfully,\n",
      "[Your Name]"
     ]
    }
   ],
   "source": [
    "for chunk in rag_chain.stream(\"was there a diplomatic situation between Britains' war declaration and the germany invasion of Poland, between Great britain and Germany during the 30s?\"):\n",
    "    print(chunk, end=\"\", flush=True)"
   ],
   "metadata": {
    "collapsed": false,
    "ExecuteTime": {
     "end_time": "2023-12-19T18:50:18.179870Z",
     "start_time": "2023-12-19T18:50:15.112754Z"
    }
   },
   "id": "dd04c84beb244855"
  },
  {
   "cell_type": "markdown",
   "source": [
    "# Adding Source to the Response"
   ],
   "metadata": {
    "collapsed": false
   },
   "id": "e4999051b561422"
  },
  {
   "cell_type": "code",
   "execution_count": 22,
   "outputs": [
    {
     "data": {
      "text/plain": "{'documents': [{'chunk': 0.0,\n   'source': 'https://simple.wikipedia.org/wiki/ExxonMobil',\n   'title': 'ExxonMobil',\n   'wiki-id': '37649'},\n  {'chunk': 0.0,\n   'source': 'https://simple.wikipedia.org/wiki/Shell%20Oil%20Company',\n   'title': 'Shell Oil Company',\n   'wiki-id': '72099'},\n  {'chunk': 0.0,\n   'source': 'https://simple.wikipedia.org/wiki/Petroleum%20industry',\n   'title': 'Petroleum industry',\n   'wiki-id': '126836'},\n  {'chunk': 0.0,\n   'source': 'https://simple.wikipedia.org/wiki/List%20of%20oil%20fields',\n   'title': 'List of oil fields',\n   'wiki-id': '4806'},\n  {'chunk': 0.0,\n   'source': 'https://simple.wikipedia.org/wiki/List%20of%20oil-producing%20nations',\n   'title': 'List of oil-producing nations',\n   'wiki-id': '4813'},\n  {'chunk': 0.0,\n   'source': 'https://simple.wikipedia.org/wiki/List%20of%20companies%20based%20in%20Tulsa%2C%20Oklahoma',\n   'title': 'List of companies based in Tulsa, Oklahoma',\n   'wiki-id': '132570'}],\n 'answer': 'Dear [Name],\\n\\nThe biggest oil companies in the world are ExxonMobil and Royal Dutch Shell.\\n\\nThank you,\\n[Your Name]'}"
     },
     "execution_count": 22,
     "metadata": {},
     "output_type": "execute_result"
    }
   ],
   "source": [
    "rag_chain_from_docs = (\n",
    "    {\n",
    "        \"context\": lambda input: format_docs(input[\"documents\"]),\n",
    "        \"question\": itemgetter(\"question\"),\n",
    "    }\n",
    "    | rag_prompt_custom\n",
    "    | llm\n",
    "    | StrOutputParser()\n",
    ")\n",
    "rag_chain_with_source = RunnableParallel(\n",
    "    {\"documents\": retriever, \"question\": RunnablePassthrough()}\n",
    ") | {\n",
    "    \"documents\": lambda input: [doc.metadata for doc in input[\"documents\"]],\n",
    "    \"answer\": rag_chain_from_docs,\n",
    "}\n",
    "\n",
    "rag_chain_with_source.invoke(\"What are the biggest oil companies?\")"
   ],
   "metadata": {
    "collapsed": false,
    "ExecuteTime": {
     "end_time": "2023-12-19T18:52:56.861839Z",
     "start_time": "2023-12-19T18:52:54.588011Z"
    }
   },
   "id": "d7b29d0cf0380f55"
  },
  {
   "cell_type": "code",
   "execution_count": 23,
   "outputs": [
    {
     "name": "stdout",
     "output_type": "stream",
     "text": [
      "{'documents': [{'chunk': 0.0, 'source': 'https://simple.wikipedia.org/wiki/ExxonMobil', 'title': 'ExxonMobil', 'wiki-id': '37649'}, {'chunk': 0.0, 'source': 'https://simple.wikipedia.org/wiki/Shell%20Oil%20Company', 'title': 'Shell Oil Company', 'wiki-id': '72099'}, {'chunk': 0.0, 'source': 'https://simple.wikipedia.org/wiki/Petroleum%20industry', 'title': 'Petroleum industry', 'wiki-id': '126836'}, {'chunk': 0.0, 'source': 'https://simple.wikipedia.org/wiki/List%20of%20oil%20fields', 'title': 'List of oil fields', 'wiki-id': '4806'}, {'chunk': 0.0, 'source': 'https://simple.wikipedia.org/wiki/List%20of%20oil-producing%20nations', 'title': 'List of oil-producing nations', 'wiki-id': '4813'}, {'chunk': 0.0, 'source': 'https://simple.wikipedia.org/wiki/List%20of%20companies%20based%20in%20Tulsa%2C%20Oklahoma', 'title': 'List of companies based in Tulsa, Oklahoma', 'wiki-id': '132570'}]}{'answer': ''}{'answer': 'Dear'}{'answer': ' ['}{'answer': 'Name'}{'answer': '],\\n\\n'}{'answer': 'The'}{'answer': ' biggest'}{'answer': ' oil'}{'answer': ' companies'}{'answer': ' in'}{'answer': ' the'}{'answer': ' world'}{'answer': ' are'}{'answer': ' Exxon'}{'answer': 'M'}{'answer': 'obil'}{'answer': ' and'}{'answer': ' Royal'}{'answer': ' Dutch'}{'answer': ' Shell'}{'answer': '.\\n\\n'}{'answer': 'Thank'}{'answer': ' you'}{'answer': ',\\n'}{'answer': '['}{'answer': 'Your'}{'answer': ' Name'}{'answer': ']'}{'answer': ''}"
     ]
    }
   ],
   "source": [
    "for chunk in rag_chain_with_source.stream(\"What are the biggest oil companies?\"):\n",
    "    print(chunk, end=\"\", flush=True)"
   ],
   "metadata": {
    "collapsed": false,
    "ExecuteTime": {
     "end_time": "2023-12-19T18:53:30.132882Z",
     "start_time": "2023-12-19T18:53:28.381468Z"
    }
   },
   "id": "40b09b488611f2f7"
  },
  {
   "cell_type": "markdown",
   "source": [
    "# Adding Memory "
   ],
   "metadata": {
    "collapsed": false
   },
   "id": "aaf8d5d567e61c0e"
  },
  {
   "cell_type": "code",
   "execution_count": 24,
   "outputs": [],
   "source": [
    "condense_q_system_prompt = \"\"\"Given a chat history and the latest user question \\\n",
    "which might reference the chat history, formulate a standalone question \\\n",
    "which can be understood without the chat history. Do NOT answer the question, \\\n",
    "just reformulate it if needed and otherwise return it as is.\"\"\"\n",
    "condense_q_prompt = ChatPromptTemplate.from_messages(\n",
    "    [\n",
    "        (\"system\", condense_q_system_prompt),\n",
    "        MessagesPlaceholder(variable_name=\"chat_history\"),\n",
    "        (\"human\", \"{question}\"),\n",
    "    ]\n",
    ")\n",
    "condense_q_chain = condense_q_prompt | llm | StrOutputParser()"
   ],
   "metadata": {
    "collapsed": false,
    "ExecuteTime": {
     "end_time": "2023-12-19T18:53:36.785196Z",
     "start_time": "2023-12-19T18:53:36.774894Z"
    }
   },
   "id": "6e0003e8ab6bc7b2"
  },
  {
   "cell_type": "code",
   "execution_count": 25,
   "outputs": [
    {
     "data": {
      "text/plain": "'What is the definition of \"large\" in the context of a language model?'"
     },
     "execution_count": 25,
     "metadata": {},
     "output_type": "execute_result"
    }
   ],
   "source": [
    "condense_q_chain.invoke(\n",
    "    {\n",
    "        \"chat_history\": [\n",
    "            HumanMessage(content=\"What does LLM stand for?\"),\n",
    "            AIMessage(content=\"Large language model\"),\n",
    "        ],\n",
    "        \"question\": \"What is meant by large\",\n",
    "    }\n",
    ")"
   ],
   "metadata": {
    "collapsed": false,
    "ExecuteTime": {
     "end_time": "2023-12-19T18:53:40.329745Z",
     "start_time": "2023-12-19T18:53:39.144836Z"
    }
   },
   "id": "2b74393f64afb0c9"
  },
  {
   "cell_type": "code",
   "execution_count": 26,
   "outputs": [
    {
     "data": {
      "text/plain": "'How do transformer models function?'"
     },
     "execution_count": 26,
     "metadata": {},
     "output_type": "execute_result"
    }
   ],
   "source": [
    "condense_q_chain.invoke(\n",
    "    {\n",
    "        \"chat_history\": [\n",
    "            HumanMessage(content=\"What does LLM stand for?\"),\n",
    "            AIMessage(content=\"Large language model\"),\n",
    "        ],\n",
    "        \"question\": \"How do transformers work\",\n",
    "    }\n",
    ")"
   ],
   "metadata": {
    "collapsed": false,
    "ExecuteTime": {
     "end_time": "2023-12-19T18:53:41.657915Z",
     "start_time": "2023-12-19T18:53:40.969712Z"
    }
   },
   "id": "f838502031307eb"
  },
  {
   "cell_type": "code",
   "execution_count": 27,
   "outputs": [],
   "source": [
    "qa_system_prompt = \"\"\"You are an assistant for question-answering tasks. \\\n",
    "Use the following pieces of retrieved context to answer the question. \\\n",
    "If you don't know the answer, just say that you don't know. \\\n",
    "Use three sentences maximum and keep the answer concise.\\\n",
    "\n",
    "{context}\"\"\"\n",
    "qa_prompt = ChatPromptTemplate.from_messages(\n",
    "    [\n",
    "        (\"system\", qa_system_prompt),\n",
    "        MessagesPlaceholder(variable_name=\"chat_history\"),\n",
    "        (\"human\", \"{question}\"),\n",
    "    ]\n",
    ")\n",
    "\n",
    "\n",
    "def condense_question(input: dict):\n",
    "    if input.get(\"chat_history\"):\n",
    "        return condense_q_chain\n",
    "    else:\n",
    "        return input[\"question\"]\n",
    "\n",
    "\n",
    "rag_chain = (\n",
    "    RunnablePassthrough.assign(context=condense_question | retriever | format_docs)\n",
    "    | qa_prompt\n",
    "    | llm\n",
    ")"
   ],
   "metadata": {
    "collapsed": false,
    "ExecuteTime": {
     "end_time": "2023-12-19T18:53:45.178572Z",
     "start_time": "2023-12-19T18:53:45.168294Z"
    }
   },
   "id": "a71b517d428077f2"
  },
  {
   "cell_type": "code",
   "execution_count": 28,
   "outputs": [
    {
     "data": {
      "text/plain": "AIMessage(content='Yes, several of those countries have had conflicts with each other or within their own borders. For example, in the last 100 years, there have been conflicts such as the Korean War between North and South Korea, the Vietnam War between North and South Vietnam, and the ongoing conflicts in Afghanistan and Iraq. Additionally, countries like Rwanda, Congo, Liberia, and Ivory Coast in West Africa have experienced internal conflicts and civil wars.')"
     },
     "execution_count": 28,
     "metadata": {},
     "output_type": "execute_result"
    }
   ],
   "source": [
    "chat_history = []\n",
    "\n",
    "question = \"Was there a conflict involving Australia and its neighbor countries for the last 100 years?\"\n",
    "ai_msg = rag_chain.invoke({\"question\": question, \"chat_history\": chat_history})\n",
    "chat_history.extend([HumanMessage(content=question), ai_msg])\n",
    "\n",
    "second_question = \"Any of those countries had any other kind of conflict?\"\n",
    "rag_chain.invoke({\"question\": second_question, \"chat_history\": chat_history})"
   ],
   "metadata": {
    "collapsed": false,
    "ExecuteTime": {
     "end_time": "2023-12-19T18:54:01.731342Z",
     "start_time": "2023-12-19T18:53:53.857054Z"
    }
   },
   "id": "24afdbfa39a1c760"
  },
  {
   "cell_type": "code",
   "execution_count": null,
   "outputs": [],
   "source": [],
   "metadata": {
    "collapsed": false
   },
   "id": "1d2275e535a0836c"
  }
 ],
 "metadata": {
  "kernelspec": {
   "display_name": "Python 3",
   "language": "python",
   "name": "python3"
  },
  "language_info": {
   "codemirror_mode": {
    "name": "ipython",
    "version": 2
   },
   "file_extension": ".py",
   "mimetype": "text/x-python",
   "name": "python",
   "nbconvert_exporter": "python",
   "pygments_lexer": "ipython2",
   "version": "2.7.6"
  }
 },
 "nbformat": 4,
 "nbformat_minor": 5
}
